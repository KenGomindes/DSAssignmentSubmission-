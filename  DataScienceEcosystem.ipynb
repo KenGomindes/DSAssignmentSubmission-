{
 "cells": [
  {
   "cell_type": "markdown",
   "id": "112e6c7e-5978-485b-bc08-f9280457ee44",
   "metadata": {},
   "source": [
    "# Data Science Tools and Ecosystem"
   ]
  },
  {
   "cell_type": "markdown",
   "id": "ed7c572a-5434-4a34-9d4b-44493d07722b",
   "metadata": {},
   "source": [
    "In this notebook, Data Science Tools and Ecosystem are summarized"
   ]
  },
  {
   "cell_type": "markdown",
   "id": "2e402dec-b01e-478b-9c05-d39de07d2435",
   "metadata": {},
   "source": [
    "**Objectives:**\n",
    "- languages in data science\n",
    "- commonly used libraries \n",
    "- tables , lists \n",
    "- arithmetic expressions "
   ]
  },
  {
   "cell_type": "markdown",
   "id": "bc3256a2-6f11-4f4e-bf0b-44e672037913",
   "metadata": {
    "jp-MarkdownHeadingCollapsed": true,
    "tags": []
   },
   "source": [
    "### Some of the popular languages that Data Scientists use are:\n",
    "\n",
    "1. R\n",
    "2. Python \n",
    "3. Julia \n"
   ]
  },
  {
   "cell_type": "markdown",
   "id": "b70e3605-4578-4fd8-8fd3-dbd1c27109f2",
   "metadata": {},
   "source": [
    "### Some of the commonly used libraries used by Data Scientists include: \n",
    "\n",
    "- numpy \n",
    "- pandas \n",
    "- scipy "
   ]
  },
  {
   "cell_type": "markdown",
   "id": "5c57686c-5cf7-456c-a0e7-95b239c369e3",
   "metadata": {},
   "source": [
    "| Data Science Tool|\n",
    "|------|\n",
    "| R Studio|\n",
    "| Anaconda |\n",
    "| visual studio | "
   ]
  },
  {
   "cell_type": "markdown",
   "id": "99f808d2-a4e4-4503-aa4f-569299f34108",
   "metadata": {},
   "source": [
    "### Below are a few examples of evaluating arithmetic expressions in Python"
   ]
  },
  {
   "cell_type": "code",
   "execution_count": 2,
   "id": "a60ad3de-80ad-4990-bcaa-ad1ad708609a",
   "metadata": {
    "tags": []
   },
   "outputs": [
    {
     "data": {
      "text/plain": [
       "17"
      ]
     },
     "execution_count": 2,
     "metadata": {},
     "output_type": "execute_result"
    }
   ],
   "source": [
    "# this a simple arithmetic expression to mutiply then add integers\n",
    "x=(3*4)+5\n",
    "x"
   ]
  },
  {
   "cell_type": "code",
   "execution_count": 3,
   "id": "5d9a4ed5-7521-4e01-a607-3bd636ee7b33",
   "metadata": {
    "tags": []
   },
   "outputs": [
    {
     "name": "stdout",
     "output_type": "stream",
     "text": [
      "3.3333333333333335\n"
     ]
    }
   ],
   "source": [
    "# This will convert 200 minutes to hours by diving by 60\n",
    "h=200/60\n",
    "print(h)"
   ]
  },
  {
   "cell_type": "markdown",
   "id": "fd1167f6-1636-4f7f-9c44-af0185c68bd2",
   "metadata": {},
   "source": [
    "## Author \n",
    "Kenrick Jesito Gomindes "
   ]
  },
  {
   "cell_type": "code",
   "execution_count": null,
   "id": "e419259b-8221-4ca6-bde6-40b2876eaca6",
   "metadata": {},
   "outputs": [],
   "source": []
  }
 ],
 "metadata": {
  "kernelspec": {
   "display_name": "Python",
   "language": "python",
   "name": "conda-env-python-py"
  },
  "language_info": {
   "codemirror_mode": {
    "name": "ipython",
    "version": 3
   },
   "file_extension": ".py",
   "mimetype": "text/x-python",
   "name": "python",
   "nbconvert_exporter": "python",
   "pygments_lexer": "ipython3",
   "version": "3.7.12"
  }
 },
 "nbformat": 4,
 "nbformat_minor": 5
}
